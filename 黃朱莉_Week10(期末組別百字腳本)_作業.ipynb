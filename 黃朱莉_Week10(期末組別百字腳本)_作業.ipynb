{
  "nbformat": 4,
  "nbformat_minor": 0,
  "metadata": {
    "kernelspec": {
      "display_name": "Python 3",
      "language": "python",
      "name": "python3"
    },
    "language_info": {
      "codemirror_mode": {
        "name": "ipython",
        "version": 3
      },
      "file_extension": ".py",
      "mimetype": "text/x-python",
      "name": "python",
      "nbconvert_exporter": "python",
      "pygments_lexer": "ipython3",
      "version": "3.8.5"
    },
    "colab": {
      "name": "黃朱莉-Week10-作業.ipynb",
      "provenance": [],
      "collapsed_sections": [],
      "include_colab_link": true
    }
  },
  "cells": [
    {
      "cell_type": "markdown",
      "metadata": {
        "id": "view-in-github",
        "colab_type": "text"
      },
      "source": [
        "<a href=\"https://colab.research.google.com/github/A109010097/Computational-Thinking-and-Program-Design/blob/main/%E9%BB%83%E6%9C%B1%E8%8E%89_Week10(%E6%9C%9F%E6%9C%AB%E7%B5%84%E5%88%A5%E7%99%BE%E5%AD%97%E8%85%B3%E6%9C%AC)_%E4%BD%9C%E6%A5%AD.ipynb\" target=\"_parent\"><img src=\"https://colab.research.google.com/assets/colab-badge.svg\" alt=\"Open In Colab\"/></a>"
      ]
    },
    {
      "cell_type": "markdown",
      "metadata": {
        "id": "_zRAs7hVH4I4"
      },
      "source": [
        "# 基本程式設計(應用篇)"
      ]
    },
    {
      "cell_type": "markdown",
      "metadata": {
        "id": "Gy5DUBZbH4I-"
      },
      "source": [
        "### 4-2 運算思維四個基石"
      ]
    },
    {
      "cell_type": "markdown",
      "metadata": {
        "id": "QraimV3JH4I_"
      },
      "source": [
        "#### 4-2-4  問題拆解 - 打造你的聊天機器人"
      ]
    },
    {
      "cell_type": "markdown",
      "metadata": {
        "id": "mIxRIaTuH4I_"
      },
      "source": [
        "「哈囉，大家好。我叫Zyxo64，是一個聊天機器人。\n",
        "\n",
        "在嗜好與興趣方面，我很喜歡美食，也喜歡養動物。\n",
        "\n",
        "很高興有機會來到世新大學，請大家多多指教。\n",
        "\n",
        "嗨！妳好，請問大名？：Francis。\n",
        "\n",
        "Francis，很高興認識你。"
      ]
    },
    {
      "cell_type": "code",
      "metadata": {
        "id": "zQbeaCAOH4I_"
      },
      "source": [
        "# 1.聊天機器人自我介紹\n",
        "\n",
        "\n",
        "# 2. 打招呼，取得對方名字\n"
      ],
      "execution_count": null,
      "outputs": []
    },
    {
      "cell_type": "markdown",
      "metadata": {
        "id": "weQANF9FH4JA"
      },
      "source": [
        "抱歉，請問一下今年是西元2021年，那是民國幾年呢？：*110*。\n",
        "\n",
        "對！沒錯，謝謝妳！\n",
        "\n",
        "**Francis**，猜猜看我今年幾歲？ ：**18**。\n",
        "\n",
        "哇！你好聰明，我今年的確*18*。\n",
        "\n",
        "再82年我就100歲了。\n",
        "\n",
        "那時候是西元 2103年，也就是民國192年囉！"
      ]
    },
    {
      "cell_type": "code",
      "metadata": {
        "id": "I5truGkcH4JA"
      },
      "source": [
        "# 3. 數學運算\n",
        "## 3-1 從使用者取得今年年份\n",
        "\n",
        "\n",
        "## 3-2 請使用者猜年齡\n",
        "\n",
        "\n",
        "## 3-3 計算聊天機器人滿100歲的年份\n",
        "\n"
      ],
      "execution_count": null,
      "outputs": []
    },
    {
      "cell_type": "markdown",
      "metadata": {
        "id": "NeMPz_ehH4JB"
      },
      "source": [
        "我喜歡吃巧克力，也喜歡嘗試各種新食物。\n",
        "\n",
        "你呢？你最喜歡的食物是什麼？**:披薩**。\n",
        "\n",
        "我也喜歡 *披薩*。\n",
        "\n",
        "你多久吃一次 *披薩*？**：每天**。\n",
        "\n",
        "真有趣。不知道這樣對健康好不好。"
      ]
    },
    {
      "cell_type": "code",
      "metadata": {
        "id": "USK7izZPH4JB"
      },
      "source": [
        "# 4 興趣\n",
        "## 4-1 食物話題\n"
      ],
      "execution_count": null,
      "outputs": []
    },
    {
      "cell_type": "markdown",
      "metadata": {
        "id": "lUGusDZFH4JB"
      },
      "source": [
        "我最喜歡的動物是長頸鹿。你呢？ **：烏龜**。\n",
        "\n",
        "我不喜歡*烏龜*！\n",
        "\n",
        "不知道 *烏龜* 喜不喜歡吃 *披薩*？"
      ]
    },
    {
      "cell_type": "code",
      "metadata": {
        "id": "fctbIy8FH4JB"
      },
      "source": [
        "# 4 興趣\n",
        "## 4-2 動物話題\n"
      ],
      "execution_count": null,
      "outputs": []
    },
    {
      "cell_type": "markdown",
      "metadata": {
        "id": "7s6ogFxuH4JC"
      },
      "source": [
        "你今天的心情如何？ **：很開心**。\n",
        "\n",
        "可以告訴我你 *開心* 的原因嗎？**因為週末了！** \n",
        "\n",
        "祝你週末愉快！\n",
        "\n",
        "我喜歡跟你聊天，現在有點累了，改天再聊吧！！\n",
        "\n",
        "再見 *Francis*！"
      ]
    },
    {
      "cell_type": "code",
      "metadata": {
        "id": "y8HJutkRH4JC"
      },
      "source": [
        "# 5. 關於心情的對話\n"
      ],
      "execution_count": null,
      "outputs": []
    },
    {
      "cell_type": "markdown",
      "metadata": {
        "id": "HGLNqqLcH4JC"
      },
      "source": [
        "我喜歡跟你聊天，現在有點累了，改天再聊吧！！\n",
        "\n",
        "再見 *Francis*！"
      ]
    },
    {
      "cell_type": "code",
      "metadata": {
        "id": "_-NFz3QhH4JD"
      },
      "source": [
        "# 6. 道別\n"
      ],
      "execution_count": null,
      "outputs": []
    },
    {
      "cell_type": "markdown",
      "metadata": {
        "id": "bb4VqylFH4JD"
      },
      "source": [
        "## 期末報告"
      ]
    },
    {
      "cell_type": "markdown",
      "metadata": {
        "id": "Zk5tHAP5H4JD"
      },
      "source": [
        "組長(學號姓名):A109010097 黃朱莉\n"
      ]
    },
    {
      "cell_type": "markdown",
      "metadata": {
        "id": "-GgZx6-0H4JD"
      },
      "source": [
        "組員(學號姓名): \n",
        "A109010013 陳琪涵\n",
        "A109010067 李安\n",
        "A107050203 陳怡君\n",
        "\n",
        "\n"
      ]
    },
    {
      "cell_type": "markdown",
      "metadata": {
        "id": "IyojcIJWH4JE"
      },
      "source": [
        "### 題目:防疫機器人與人類的對話"
      ]
    },
    {
      "cell_type": "markdown",
      "metadata": {
        "id": "yc14oOQPH4JE"
      },
      "source": [
        "### 百字腳本\n",
        "主人您好，我叫Zyxo49，是你的防疫機器人。\n",
        "在疫情爆發危險期間，可以幫助你獲取最準確的資訊。\n",
        "很高興有機會能為主人服務。\n",
        "嗨！妳好。\n",
        "請問大名？：kiki\n",
        "kiki很高興認識妳，有什麼是我可以幫妳服務的嗎?\n",
        "請問我今天體溫多少？\n",
        "36.5\n",
        "36.5，幸好是體溫正常的。\n",
        "今天台灣幾位確診？\n",
        "共185例\n",
        "天啊！185!\n",
        "是的沒看錯，180例國內本土案例，5例境外移入，共185例\n",
        "政府有宣布什麼重要防疫資訊嗎?現在升到幾級了?\n",
        "雙北目前已進入防疫3級管制\n",
        "那我該怎麼做?\n",
        "提醒主人外出時務必全程配戴口罩，避免室內5人、室外10人以上之聚會\n",
        "那我去上學怎麼辦?\n",
        "請問主人在哪間學校就讀?\n",
        "世新大學\n",
        "世新大學已公布全面遠距上課 請主人不用擔心\n",
        "好的，謝謝！\n",
        "再次提醒主人 務必勤洗手、戴口罩、少群聚、保持室內1公尺室外1.5的防疫距離 祝福主人平安健康，一起度過疫情難關\n",
        "\n"
      ]
    }
  ]
}