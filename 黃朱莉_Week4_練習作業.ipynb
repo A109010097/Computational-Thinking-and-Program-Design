{
  "nbformat": 4,
  "nbformat_minor": 0,
  "metadata": {
    "colab": {
      "name": "黃朱莉-Week4-練習作業.ipynb",
      "provenance": [],
      "collapsed_sections": [],
      "authorship_tag": "ABX9TyOsq0ZmKCCefo95pei/aPz9",
      "include_colab_link": true
    },
    "kernelspec": {
      "name": "python3",
      "display_name": "Python 3"
    }
  },
  "cells": [
    {
      "cell_type": "markdown",
      "metadata": {
        "id": "view-in-github",
        "colab_type": "text"
      },
      "source": [
        "<a href=\"https://colab.research.google.com/github/A109010097/Computational-Thinking-and-Program-Design/blob/main/%E9%BB%83%E6%9C%B1%E8%8E%89_Week4_%E7%B7%B4%E7%BF%92%E4%BD%9C%E6%A5%AD.ipynb\" target=\"_parent\"><img src=\"https://colab.research.google.com/assets/colab-badge.svg\" alt=\"Open In Colab\"/></a>"
      ]
    },
    {
      "cell_type": "code",
      "metadata": {
        "id": "0bRUAiH4WfKq"
      },
      "source": [
        ""
      ],
      "execution_count": null,
      "outputs": []
    },
    {
      "cell_type": "markdown",
      "metadata": {
        "id": "PKIwjD5kWg3t"
      },
      "source": [
        "#隨堂練習"
      ]
    },
    {
      "cell_type": "markdown",
      "metadata": {
        "id": "S8UvUnuEfZN7"
      },
      "source": [
        "1.電腦主要是由硬體與軟體兩部分,構成電腦系統架構,可以提供使用者在其中執行應用程式和處理資料。硬體是具體可見的零件,而軟體則是指揮硬體運作的靈魂。\r\n",
        "\r\n",
        "2.「中央處理理器」(CPU),負責電腦的運算,其中包含控制單元和算術邏輯單元兩大部份。\r\n",
        "\r\n",
        "3.記憶單元是用來儲存CPU運算時所需要的資料或程式,以及儲存CPU的運算結果。記憶單元又分為記憶體和儲存裝置兩種類型。\r\n",
        "\r\n",
        "4.平行處理:一部電腦裡面有多個處理器,每個處理器都像一個CPU,可以獨立執行工作,至於主記憶體及I/O則共用。常見多核心中央處理器有四核心、八核心等。\r\n",
        "\r\n",
        "5.浮點運算器是用來執行浮點運算。在現在的電腦架構中,浮點數運算跟整數運算是分開地,而浮點運算器大多被集成在CPU上,比較老的電腦硬體並不支援浮點數的運算。\r\n",
        "\r\n",
        "6.0與1就是電腦唯一會說的話。電腦只需要利用零和一這兩種數字,就可以處理很多的問題。\r\n",
        "\r\n",
        "7.運算思維的四個基石：\r\n",
        "(1)問題拆解：將複雜問題拆解成小問題\r\n",
        "(2)抽象化：將實體問題去蕪存菁轉化成計算機可以處理的形式\r\n",
        "(3)模式辨識：從具代表性資訊中找出規律\r\n",
        "(4)演算法：設計可以處理問題的方法"
      ]
    },
    {
      "cell_type": "markdown",
      "metadata": {
        "id": "-JaG4MzLYBqe"
      },
      "source": [
        "#課後練習"
      ]
    },
    {
      "cell_type": "markdown",
      "metadata": {
        "id": "gMQ1i3YNYXhs"
      },
      "source": [
        "**從一則新聞報導，提出你對新聞系（OO系）學生為什麼要學「運算思維與程式設計」的見解。（告訴我新聞連結，以及你的觀點即可。）**"
      ]
    },
    {
      "cell_type": "markdown",
      "metadata": {
        "id": "RUIj3CrRe3Px"
      },
      "source": [
        "[連結文字](https://www.storm.mg/article/3117067?page=1&fbclid=IwAR35kYgkly_GnCF25xsw1I7zFTWrY3HMrSoP2s4bunkgBrVagGgKbPxMi5A)"
      ]
    },
    {
      "cell_type": "markdown",
      "metadata": {
        "id": "M17LDXjPbXJi"
      },
      "source": [
        "依照上述新聞所說，「國小階段學習基本運算思維，國中階段以運算思維解決問題，高中階段能內化運算思維」是教育部的規劃，那對於我們新聞系的學生來說，有許多人都是在大學第一次接觸到程式設計這樣的課程，這樣是否就已經不太合理了呢？我是這樣想的。再者，我認為在大學期間，讓與程式設計科系無相關的學生來學習，很容易由於與學生的興趣不符，造成學生興趣缺缺，學習成效不好，畢竟大學已經是一個學生們開始了解自己的興趣，自己選擇所學專業的階段，因此我認為這樣並沒有達到教育部希望呈現的效果，不適合讓新聞系的學生學習運算思維與程式設計。"
      ]
    },
    {
      "cell_type": "code",
      "metadata": {
        "id": "sSXHSLJCfAZh"
      },
      "source": [
        ""
      ],
      "execution_count": null,
      "outputs": []
    }
  ]
}