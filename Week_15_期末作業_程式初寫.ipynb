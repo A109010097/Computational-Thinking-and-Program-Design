{
  "nbformat": 4,
  "nbformat_minor": 0,
  "metadata": {
    "colab": {
      "name": "Week 10 -期末作業-程式初寫.ipynb",
      "provenance": [],
      "collapsed_sections": [],
      "include_colab_link": true
    },
    "kernelspec": {
      "name": "python3",
      "display_name": "Python 3"
    },
    "language_info": {
      "name": "python"
    }
  },
  "cells": [
    {
      "cell_type": "markdown",
      "metadata": {
        "id": "view-in-github",
        "colab_type": "text"
      },
      "source": [
        "<a href=\"https://colab.research.google.com/github/A109010097/Computational-Thinking-and-Program-Design/blob/main/Week_15_%E6%9C%9F%E6%9C%AB%E4%BD%9C%E6%A5%AD_%E7%A8%8B%E5%BC%8F%E5%88%9D%E5%AF%AB.ipynb\" target=\"_parent\"><img src=\"https://colab.research.google.com/assets/colab-badge.svg\" alt=\"Open In Colab\"/></a>"
      ]
    },
    {
      "cell_type": "markdown",
      "metadata": {
        "id": "6S8JcP5h-xbx"
      },
      "source": [
        "##**4-2-4 問題拆解 - 打造你的聊天機器人**##\n"
      ]
    },
    {
      "cell_type": "markdown",
      "metadata": {
        "id": "dbI4PpmV_FFk"
      },
      "source": [
        "主人您好，我叫Zyxo49，是你的防疫機器人。\n",
        "\n",
        "在疫情爆發危險期間，可以幫助你獲取最準確的資訊。\n",
        "\n",
        "很高興有機會能為主人服務。\n",
        "\n",
        "嗨！妳好。\n",
        "\n",
        "請問大名？：kiki\n",
        "\n",
        "kiki很高興認識妳，有什麼是我可以幫妳服務的嗎?\n",
        "\n",
        "請問今天體溫多少？\n",
        "\n",
        "36.5\n",
        "\n",
        "36.5，幸好是體溫正常的。\n",
        "\n",
        "今天台灣幾位確診？\n",
        "\n",
        "共185例\n",
        "\n",
        "天啊！185!\n",
        "\n",
        "是的沒看錯，180例國內本土案例，5例境外移入，共185例\n",
        "\n",
        "政府有宣布什麼重要防疫資訊嗎?現在升到幾級了?\n",
        "\n",
        "雙北目前已進入防疫3級管制\n",
        "\n",
        "那我該怎麼做\n",
        "\n",
        "提醒主人外出時務必全程配戴口罩，避免室內5人、室外10人以上之聚會\n",
        "\n",
        "那我去上學怎麼辦\n",
        "\n",
        "請問主人在哪間學校就讀\n",
        "\n",
        "世新大學\n",
        "\n",
        "世新大學已公布全面遠距上課 請主人不用擔心\n",
        "\n",
        "好的，謝謝！\n",
        "\n",
        "再次提醒主人 務必勤洗手、戴口罩、少群聚、保持室內1公尺室外1.5的防疫距離 祝福主人平安健康，一起度過疫情難關!\n"
      ]
    },
    {
      "cell_type": "code",
      "metadata": {
        "colab": {
          "base_uri": "https://localhost:8080/"
        },
        "id": "j2p20xJn-qMK",
        "outputId": "43633dd8-5a65-4cc5-cee0-bd915426c762"
      },
      "source": [
        "# 1.聊天機器人自我介紹\n",
        "print(\"主人您好，我叫Zyx049，是你的防疫機器人。\")\n",
        "print(f\"在疫情爆發危險期間，可以幫助你獲取最準確的資訊。\")\n",
        "\n",
        "hello=\"很高興有機會能為主人服務。\"\n",
        "print(hello)\n"
      ],
      "execution_count": null,
      "outputs": [
        {
          "output_type": "stream",
          "text": [
            "主人您好，我叫Zyx049，是你的防疫機器人。\n",
            "在疫情爆發危險期間，可以幫助你獲取最準確的資訊。\n",
            "很高興有機會能為主人服務。\n"
          ],
          "name": "stdout"
        }
      ]
    },
    {
      "cell_type": "code",
      "metadata": {
        "colab": {
          "base_uri": "https://localhost:8080/"
        },
        "id": "S1yjIqlq_Mrr",
        "outputId": "9b53b569-1d7e-450a-e389-9e016ae20753"
      },
      "source": [
        "#2.打招呼，取得對方名字\n",
        "print(\"嗨！妳好。\")\n",
        "name=input(\"請問大名？：\")\n",
        "print(f\"{name},很高興認識妳，有什麼是我可以幫妳服務的嗎?\")\n",
        "\n",
        "BT=input(\"請問今天體溫多少？:\" )\n",
        "print(f\"{BT}，幸好體溫是正常的\")\n"
      ],
      "execution_count": null,
      "outputs": [
        {
          "output_type": "stream",
          "text": [
            "嗨！妳好。\n",
            "請問大名？：kiki\n",
            "kiki,很高興認識妳，有什麼是我可以幫妳服務的嗎?\n",
            "請問今天體溫多少？:36.5\n",
            "36.5，幸好體溫是正常的\n"
          ],
          "name": "stdout"
        }
      ]
    },
    {
      "cell_type": "code",
      "metadata": {
        "colab": {
          "base_uri": "https://localhost:8080/",
          "height": 301
        },
        "id": "C-XYVFSU_RXE",
        "outputId": "804e2f63-6f7f-4984-bc1a-ea4f5222d08e"
      },
      "source": [
        "#3.疫情資訊\n",
        "number=input(\"今天台灣幾位確診？:\")\n",
        "print(f\"共{number}例\")\n",
        "print(f\"天啊！{number}\")\n",
        "print=(\"是的沒看錯，180例國內本土案例，5例境外移入，共185例\")\n",
        "\n",
        "level=input(\"那政府有宣布什麼重要防疫資訊嗎?現在升到幾級了?:\")\n",
        "print(f\"雙北目前已進入防疫{level}級管制\")\n",
        "\n",
        "print=(\"那我該怎麼做?\")\n",
        "print=(\"提醒主人外出時務必全程配戴口罩，避免室內5人、室外10人以上之聚會\")"
      ],
      "execution_count": null,
      "outputs": [
        {
          "output_type": "stream",
          "text": [
            "今天台灣幾位確診？:185\n",
            "共185例\n",
            "天啊！185\n",
            "那政府有宣布什麼重要防疫資訊嗎?現在升到幾級了?:3\n"
          ],
          "name": "stdout"
        },
        {
          "output_type": "error",
          "ename": "TypeError",
          "evalue": "ignored",
          "traceback": [
            "\u001b[0;31m---------------------------------------------------------------------------\u001b[0m",
            "\u001b[0;31mTypeError\u001b[0m                                 Traceback (most recent call last)",
            "\u001b[0;32m<ipython-input-3-2ad83548762c>\u001b[0m in \u001b[0;36m<module>\u001b[0;34m()\u001b[0m\n\u001b[1;32m      6\u001b[0m \u001b[0;34m\u001b[0m\u001b[0m\n\u001b[1;32m      7\u001b[0m \u001b[0mlevel\u001b[0m\u001b[0;34m=\u001b[0m\u001b[0minput\u001b[0m\u001b[0;34m(\u001b[0m\u001b[0;34m\"那政府有宣布什麼重要防疫資訊嗎?現在升到幾級了?:\"\u001b[0m\u001b[0;34m)\u001b[0m\u001b[0;34m\u001b[0m\u001b[0;34m\u001b[0m\u001b[0m\n\u001b[0;32m----> 8\u001b[0;31m \u001b[0mprint\u001b[0m\u001b[0;34m(\u001b[0m\u001b[0;34mf\"雙北目前已進入防疫{level}級管制\"\u001b[0m\u001b[0;34m)\u001b[0m\u001b[0;34m\u001b[0m\u001b[0;34m\u001b[0m\u001b[0m\n\u001b[0m\u001b[1;32m      9\u001b[0m \u001b[0;34m\u001b[0m\u001b[0m\n\u001b[1;32m     10\u001b[0m \u001b[0mprint\u001b[0m\u001b[0;34m=\u001b[0m\u001b[0;34m(\u001b[0m\u001b[0;34m\"那我該怎麼做?\"\u001b[0m\u001b[0;34m)\u001b[0m\u001b[0;34m\u001b[0m\u001b[0;34m\u001b[0m\u001b[0m\n",
            "\u001b[0;31mTypeError\u001b[0m: 'str' object is not callable"
          ]
        }
      ]
    },
    {
      "cell_type": "code",
      "metadata": {
        "colab": {
          "base_uri": "https://localhost:8080/",
          "height": 233
        },
        "id": "dx5PYttU_Yjz",
        "outputId": "7739bba2-0d99-4d5b-d0fd-309dead62a27"
      },
      "source": [
        "#4.學校如何面對疫情\n",
        "print(\"那我去上學怎麼辦?\")\n",
        "school=input(\"請問主人在哪間學校就讀?\")\n",
        "print(f\"{school}已公布全面遠距上課，請主人不用擔心!\")\n",
        "print(\"好的，謝謝！\")\n",
        "\n",
        "print(\"再次提醒主人，務必勤洗手、戴口罩、少群聚、保持室內1公尺室外1.5的防疫距離，祝福主人平安健康，一起度過疫情難關!\")"
      ],
      "execution_count": null,
      "outputs": [
        {
          "output_type": "error",
          "ename": "TypeError",
          "evalue": "ignored",
          "traceback": [
            "\u001b[0;31m---------------------------------------------------------------------------\u001b[0m",
            "\u001b[0;31mTypeError\u001b[0m                                 Traceback (most recent call last)",
            "\u001b[0;32m<ipython-input-4-24e86e4653f9>\u001b[0m in \u001b[0;36m<module>\u001b[0;34m()\u001b[0m\n\u001b[1;32m      1\u001b[0m \u001b[0;31m#4.學校如何面對疫情\u001b[0m\u001b[0;34m\u001b[0m\u001b[0;34m\u001b[0m\u001b[0;34m\u001b[0m\u001b[0m\n\u001b[0;32m----> 2\u001b[0;31m \u001b[0mprint\u001b[0m\u001b[0;34m(\u001b[0m\u001b[0;34m\"那我去上學怎麼辦?\"\u001b[0m\u001b[0;34m)\u001b[0m\u001b[0;34m\u001b[0m\u001b[0;34m\u001b[0m\u001b[0m\n\u001b[0m\u001b[1;32m      3\u001b[0m \u001b[0mschool\u001b[0m\u001b[0;34m=\u001b[0m\u001b[0minput\u001b[0m\u001b[0;34m(\u001b[0m\u001b[0;34m\"請問主人在哪間學校就讀?\"\u001b[0m\u001b[0;34m)\u001b[0m\u001b[0;34m\u001b[0m\u001b[0;34m\u001b[0m\u001b[0m\n\u001b[1;32m      4\u001b[0m \u001b[0mprint\u001b[0m\u001b[0;34m(\u001b[0m\u001b[0;34mf\"{school}已公布全面遠距上課，請主人不用擔心!\"\u001b[0m\u001b[0;34m)\u001b[0m\u001b[0;34m\u001b[0m\u001b[0;34m\u001b[0m\u001b[0m\n\u001b[1;32m      5\u001b[0m \u001b[0mprint\u001b[0m\u001b[0;34m(\u001b[0m\u001b[0;34m\"好的，謝謝！\"\u001b[0m\u001b[0;34m)\u001b[0m\u001b[0;34m\u001b[0m\u001b[0;34m\u001b[0m\u001b[0m\n",
            "\u001b[0;31mTypeError\u001b[0m: 'str' object is not callable"
          ]
        }
      ]
    },
    {
      "cell_type": "code",
      "metadata": {
        "id": "mjOcP9RF_hOL"
      },
      "source": [
        ""
      ],
      "execution_count": null,
      "outputs": []
    }
  ]
}